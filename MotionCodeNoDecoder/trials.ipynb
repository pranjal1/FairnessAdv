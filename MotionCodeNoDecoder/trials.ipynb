{
 "cells": [
  {
   "cell_type": "code",
   "execution_count": 1,
   "id": "f2591c57-96f6-4deb-866f-5ef9afaa266c",
   "metadata": {},
   "outputs": [],
   "source": [
    "import sys"
   ]
  },
  {
   "cell_type": "code",
   "execution_count": 2,
   "id": "59dbf306-abc2-4108-ba4e-25975b8ed231",
   "metadata": {},
   "outputs": [],
   "source": [
    "from run_experiment import run_experiment"
   ]
  },
  {
   "cell_type": "code",
   "execution_count": 3,
   "id": "fa4f468c-88ed-4e40-b903-d594e7ac11d2",
   "metadata": {},
   "outputs": [],
   "source": [
    "train_conf_path = \"train_config.yml\""
   ]
  },
  {
   "cell_type": "code",
   "execution_count": null,
   "id": "2ff7392b-54ee-45e6-9e89-ca1e6f3e833d",
   "metadata": {},
   "outputs": [
    {
     "name": "stdout",
     "output_type": "stream",
     "text": [
      "Run idx =  0\n",
      "----> Data subjects information is imported.\n"
     ]
    },
    {
     "name": "stderr",
     "output_type": "stream",
     "text": [
      "24it [00:07,  3.35it/s]\n"
     ]
    },
    {
     "name": "stdout",
     "output_type": "stream",
     "text": [
      "Full exp name:  230205131705_reproduce_motion\n",
      "Data Loaded\n",
      "TF Version:  2.6.2\n",
      "WARNING:tensorflow:From /mnt/c/Users/dhaka/Desktop/acm_paper/MCND_final/MotionCodeNoDecoder/src/train_male_together.py:159: is_gpu_available (from tensorflow.python.framework.test_util) is deprecated and will be removed in a future version.\n",
      "Instructions for updating:\n",
      "Use `tf.config.list_physical_devices('GPU')` instead.\n",
      "GPU support:  False\n",
      "Training...\n",
      "Total trainable variables 28\n",
      "Total dgp-vae encoder trainable variables 8\n",
      "Total tt classifier variables 6\n",
      "Total ts adversarial classifier variables 14\n",
      "Total dgp-vae encoder and tt trainable variables 14\n",
      "Number of training steps: 1751\n",
      "Training encoder-tt network\n",
      "ERROR:tensorflow:==================================\n",
      "Object was never used (type <class 'tensorflow.python.ops.tensor_array_ops.TensorArray'>):\n",
      "<tensorflow.python.ops.tensor_array_ops.TensorArray object at 0x7fa318143eb8>\n",
      "If you want to mark it as used call its \"mark_used()\" method.\n",
      "It was originally created here:\n",
      "  File \"/home/pranjal/venv/lib/python3.6/site-packages/keras/backend.py\", line 4495, in <genexpr>\n",
      "    ta.write(time, out) for ta, out in zip(output_ta_t, flat_output))  File \"/home/pranjal/venv/lib/python3.6/site-packages/tensorflow/python/util/tf_should_use.py\", line 249, in wrapped\n",
      "    error_in_function=error_in_function)\n",
      "==================================\n",
      "Result from training on male test in step 1 =  (array([False,  True]), array([3930, 1707]))\n",
      "Result from training on male test in step 1 percent =  [0.69717935 0.30282065]\n",
      "Result from training on female test in step 1 =  (array([False,  True]), array([3191, 2406]))\n",
      "Result from training on female test in step 1 percent =  [0.57012685 0.42987315]\n",
      "Training ts network\n"
     ]
    }
   ],
   "source": [
    "FLG = run_experiment(train_conf_path)"
   ]
  },
  {
   "cell_type": "code",
   "execution_count": null,
   "id": "3a3ce886-23b2-4951-a390-5763d4c02c5f",
   "metadata": {},
   "outputs": [],
   "source": []
  }
 ],
 "metadata": {
  "kernelspec": {
   "display_name": "venv",
   "language": "python",
   "name": "venv"
  },
  "language_info": {
   "codemirror_mode": {
    "name": "ipython",
    "version": 3
   },
   "file_extension": ".py",
   "mimetype": "text/x-python",
   "name": "python",
   "nbconvert_exporter": "python",
   "pygments_lexer": "ipython3",
   "version": "3.6.9"
  }
 },
 "nbformat": 4,
 "nbformat_minor": 5
}
